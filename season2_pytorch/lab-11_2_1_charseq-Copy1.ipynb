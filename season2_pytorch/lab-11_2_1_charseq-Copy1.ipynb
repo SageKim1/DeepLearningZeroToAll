{
 "cells": [
  {
   "cell_type": "code",
   "execution_count": 1,
   "metadata": {},
   "outputs": [],
   "source": [
    "import torch\n",
    "import torch.optim as optim\n",
    "import numpy as np"
   ]
  },
  {
   "cell_type": "code",
   "execution_count": 2,
   "metadata": {},
   "outputs": [
    {
     "data": {
      "text/plain": [
       "<torch._C.Generator at 0x7f7f690e7318>"
      ]
     },
     "execution_count": 2,
     "metadata": {},
     "output_type": "execute_result"
    }
   ],
   "source": [
    "torch.manual_seed(0)"
   ]
  },
  {
   "cell_type": "code",
   "execution_count": 3,
   "metadata": {},
   "outputs": [],
   "source": [
    "sample = \" if you want you\""
   ]
  },
  {
   "cell_type": "code",
   "execution_count": 4,
   "metadata": {},
   "outputs": [
    {
     "name": "stdout",
     "output_type": "stream",
     "text": [
      "{'n': 0, 'i': 1, 'y': 2, ' ': 3, 'u': 4, 'w': 5, 'o': 6, 'f': 7, 't': 8, 'a': 9}\n"
     ]
    }
   ],
   "source": [
    "char_set = list(set(sample))\n",
    "char_dic = {c: i for i, c in enumerate(char_set)}\n",
    "print(char_dic)"
   ]
  },
  {
   "cell_type": "code",
   "execution_count": 5,
   "metadata": {},
   "outputs": [],
   "source": [
    "dic_size = len(char_dic)\n",
    "hidden_size = len(char_dic)\n",
    "learning_rate = 0.1"
   ]
  },
  {
   "cell_type": "code",
   "execution_count": 6,
   "metadata": {},
   "outputs": [],
   "source": [
    "sample_idx = [char_dic[c] for c in sample]\n",
    "x_data = [sample_idx[:-1]]\n",
    "x_one_hot = [np.eye(dic_size)[x] for x in x_data]\n",
    "y_data = [sample_idx[1:]]"
   ]
  },
  {
   "cell_type": "code",
   "execution_count": 8,
   "metadata": {},
   "outputs": [
    {
     "name": "stderr",
     "output_type": "stream",
     "text": [
      "/opt/conda/lib/python3.6/site-packages/ipykernel_launcher.py:1: UserWarning: Creating a tensor from a list of numpy.ndarrays is extremely slow. Please consider converting the list to a single numpy.ndarray with numpy.array() before converting to a tensor. (Triggered internally at  ../torch/csrc/utils/tensor_new.cpp:201.)\n",
      "  \"\"\"Entry point for launching an IPython kernel.\n"
     ]
    }
   ],
   "source": [
    "X = torch.FloatTensor(x_one_hot)\n",
    "Y = torch.LongTensor(y_data)"
   ]
  },
  {
   "cell_type": "code",
   "execution_count": 9,
   "metadata": {},
   "outputs": [],
   "source": [
    "rnn = torch.nn.RNN(dic_size, hidden_size, batch_first=True)"
   ]
  },
  {
   "cell_type": "code",
   "execution_count": 10,
   "metadata": {},
   "outputs": [],
   "source": [
    "criterion = torch.nn.CrossEntropyLoss()\n",
    "optimizer = optim.Adam(rnn.parameters(), learning_rate)"
   ]
  },
  {
   "cell_type": "code",
   "execution_count": 11,
   "metadata": {
    "scrolled": true
   },
   "outputs": [
    {
     "name": "stdout",
     "output_type": "stream",
     "text": [
      "0 loss:  2.402540683746338 prediction:  [[7 8 0 7 8 5 7 7 7 6 5 8 7 8 5]] true Y:  [[1, 7, 3, 2, 6, 4, 3, 5, 9, 0, 8, 3, 2, 6, 4]] prediction str:  ftnftwfffowtftw\n",
      "1 loss:  2.015220880508423 prediction:  [[2 8 3 2 8 4 6 5 6 4 5 3 2 8 5]] true Y:  [[1, 7, 3, 2, 6, 4, 3, 5, 9, 0, 8, 3, 2, 6, 4]] prediction str:  yt ytuowouw ytw\n",
      "2 loss:  1.7097723484039307 prediction:  [[2 6 3 2 6 4 6 5 6 4 8 3 2 6 4]] true Y:  [[1, 7, 3, 2, 6, 4, 3, 5, 9, 0, 8, 3, 2, 6, 4]] prediction str:  yo youowout you\n",
      "3 loss:  1.5347763299942017 prediction:  [[2 6 3 2 6 4 3 5 6 0 8 3 2 6 4]] true Y:  [[1, 7, 3, 2, 6, 4, 3, 5, 9, 0, 8, 3, 2, 6, 4]] prediction str:  yo you wont you\n",
      "4 loss:  1.4197975397109985 prediction:  [[2 9 3 5 6 4 3 5 6 0 8 3 2 6 4]] true Y:  [[1, 7, 3, 2, 6, 4, 3, 5, 9, 0, 8, 3, 2, 6, 4]] prediction str:  ya wou wont you\n",
      "5 loss:  1.3293429613113403 prediction:  [[2 9 3 5 6 4 3 5 6 0 8 3 2 6 4]] true Y:  [[1, 7, 3, 2, 6, 4, 3, 5, 9, 0, 8, 3, 2, 6, 4]] prediction str:  ya wou wont you\n",
      "6 loss:  1.2670742273330688 prediction:  [[2 9 3 5 6 4 3 5 6 0 8 3 2 6 4]] true Y:  [[1, 7, 3, 2, 6, 4, 3, 5, 9, 0, 8, 3, 2, 6, 4]] prediction str:  ya wou wont you\n",
      "7 loss:  1.1987570524215698 prediction:  [[2 7 3 2 6 4 3 5 9 0 8 3 2 6 4]] true Y:  [[1, 7, 3, 2, 6, 4, 3, 5, 9, 0, 8, 3, 2, 6, 4]] prediction str:  yf you want you\n",
      "8 loss:  1.149717926979065 prediction:  [[1 7 3 2 6 4 3 5 9 0 8 3 2 6 4]] true Y:  [[1, 7, 3, 2, 6, 4, 3, 5, 9, 0, 8, 3, 2, 6, 4]] prediction str:  if you want you\n",
      "9 loss:  1.1049284934997559 prediction:  [[1 7 3 2 6 4 3 5 9 0 8 3 2 6 4]] true Y:  [[1, 7, 3, 2, 6, 4, 3, 5, 9, 0, 8, 3, 2, 6, 4]] prediction str:  if you want you\n",
      "10 loss:  1.0582767724990845 prediction:  [[1 7 3 2 6 4 3 5 9 0 8 3 2 6 4]] true Y:  [[1, 7, 3, 2, 6, 4, 3, 5, 9, 0, 8, 3, 2, 6, 4]] prediction str:  if you want you\n",
      "11 loss:  1.021934151649475 prediction:  [[1 7 3 2 6 4 3 5 9 0 8 3 2 6 4]] true Y:  [[1, 7, 3, 2, 6, 4, 3, 5, 9, 0, 8, 3, 2, 6, 4]] prediction str:  if you want you\n",
      "12 loss:  0.9966877698898315 prediction:  [[1 7 3 2 6 4 3 5 9 0 8 3 2 6 4]] true Y:  [[1, 7, 3, 2, 6, 4, 3, 5, 9, 0, 8, 3, 2, 6, 4]] prediction str:  if you want you\n",
      "13 loss:  0.9726336002349854 prediction:  [[1 7 3 2 6 4 3 5 9 0 8 3 2 6 4]] true Y:  [[1, 7, 3, 2, 6, 4, 3, 5, 9, 0, 8, 3, 2, 6, 4]] prediction str:  if you want you\n",
      "14 loss:  0.9518964290618896 prediction:  [[1 7 3 2 6 4 3 5 9 0 8 3 2 6 4]] true Y:  [[1, 7, 3, 2, 6, 4, 3, 5, 9, 0, 8, 3, 2, 6, 4]] prediction str:  if you want you\n",
      "15 loss:  0.9371142983436584 prediction:  [[1 7 3 2 6 4 3 5 9 0 8 3 2 6 4]] true Y:  [[1, 7, 3, 2, 6, 4, 3, 5, 9, 0, 8, 3, 2, 6, 4]] prediction str:  if you want you\n",
      "16 loss:  0.9229089021682739 prediction:  [[1 7 3 2 6 4 3 5 9 0 8 3 2 6 4]] true Y:  [[1, 7, 3, 2, 6, 4, 3, 5, 9, 0, 8, 3, 2, 6, 4]] prediction str:  if you want you\n",
      "17 loss:  0.9098690748214722 prediction:  [[1 7 3 2 6 4 3 5 9 0 8 3 2 6 4]] true Y:  [[1, 7, 3, 2, 6, 4, 3, 5, 9, 0, 8, 3, 2, 6, 4]] prediction str:  if you want you\n",
      "18 loss:  0.8987433314323425 prediction:  [[1 7 3 2 6 4 3 5 9 0 8 3 2 6 4]] true Y:  [[1, 7, 3, 2, 6, 4, 3, 5, 9, 0, 8, 3, 2, 6, 4]] prediction str:  if you want you\n",
      "19 loss:  0.889265775680542 prediction:  [[1 7 3 2 6 4 3 5 9 0 8 3 2 6 4]] true Y:  [[1, 7, 3, 2, 6, 4, 3, 5, 9, 0, 8, 3, 2, 6, 4]] prediction str:  if you want you\n",
      "20 loss:  0.8810240030288696 prediction:  [[1 7 3 2 6 4 3 5 9 0 8 3 2 6 4]] true Y:  [[1, 7, 3, 2, 6, 4, 3, 5, 9, 0, 8, 3, 2, 6, 4]] prediction str:  if you want you\n",
      "21 loss:  0.8737894296646118 prediction:  [[1 7 3 2 6 4 3 5 9 0 8 3 2 6 4]] true Y:  [[1, 7, 3, 2, 6, 4, 3, 5, 9, 0, 8, 3, 2, 6, 4]] prediction str:  if you want you\n",
      "22 loss:  0.867450475692749 prediction:  [[1 7 3 2 6 4 3 5 9 0 8 3 2 6 4]] true Y:  [[1, 7, 3, 2, 6, 4, 3, 5, 9, 0, 8, 3, 2, 6, 4]] prediction str:  if you want you\n",
      "23 loss:  0.8618438243865967 prediction:  [[1 7 3 2 6 4 3 5 9 0 8 3 2 6 4]] true Y:  [[1, 7, 3, 2, 6, 4, 3, 5, 9, 0, 8, 3, 2, 6, 4]] prediction str:  if you want you\n",
      "24 loss:  0.8567702174186707 prediction:  [[1 7 3 2 6 4 3 5 9 0 8 3 2 6 4]] true Y:  [[1, 7, 3, 2, 6, 4, 3, 5, 9, 0, 8, 3, 2, 6, 4]] prediction str:  if you want you\n",
      "25 loss:  0.8521007299423218 prediction:  [[1 7 3 2 6 4 3 5 9 0 8 3 2 6 4]] true Y:  [[1, 7, 3, 2, 6, 4, 3, 5, 9, 0, 8, 3, 2, 6, 4]] prediction str:  if you want you\n",
      "26 loss:  0.8478202223777771 prediction:  [[1 7 3 2 6 4 3 5 9 0 8 3 2 6 4]] true Y:  [[1, 7, 3, 2, 6, 4, 3, 5, 9, 0, 8, 3, 2, 6, 4]] prediction str:  if you want you\n",
      "27 loss:  0.8439851403236389 prediction:  [[1 7 3 2 6 4 3 5 9 0 8 3 2 6 4]] true Y:  [[1, 7, 3, 2, 6, 4, 3, 5, 9, 0, 8, 3, 2, 6, 4]] prediction str:  if you want you\n",
      "28 loss:  0.8406336903572083 prediction:  [[1 7 3 2 6 4 3 5 9 0 8 3 2 6 4]] true Y:  [[1, 7, 3, 2, 6, 4, 3, 5, 9, 0, 8, 3, 2, 6, 4]] prediction str:  if you want you\n",
      "29 loss:  0.8377282619476318 prediction:  [[1 7 3 2 6 4 3 5 9 0 8 3 2 6 4]] true Y:  [[1, 7, 3, 2, 6, 4, 3, 5, 9, 0, 8, 3, 2, 6, 4]] prediction str:  if you want you\n",
      "30 loss:  0.8351834416389465 prediction:  [[1 7 3 2 6 4 3 5 9 0 8 3 2 6 4]] true Y:  [[1, 7, 3, 2, 6, 4, 3, 5, 9, 0, 8, 3, 2, 6, 4]] prediction str:  if you want you\n",
      "31 loss:  0.8329270482063293 prediction:  [[1 7 3 2 6 4 3 5 9 0 8 3 2 6 4]] true Y:  [[1, 7, 3, 2, 6, 4, 3, 5, 9, 0, 8, 3, 2, 6, 4]] prediction str:  if you want you\n",
      "32 loss:  0.8309201002120972 prediction:  [[1 7 3 2 6 4 3 5 9 0 8 3 2 6 4]] true Y:  [[1, 7, 3, 2, 6, 4, 3, 5, 9, 0, 8, 3, 2, 6, 4]] prediction str:  if you want you\n",
      "33 loss:  0.8291417956352234 prediction:  [[1 7 3 2 6 4 3 5 9 0 8 3 2 6 4]] true Y:  [[1, 7, 3, 2, 6, 4, 3, 5, 9, 0, 8, 3, 2, 6, 4]] prediction str:  if you want you\n",
      "34 loss:  0.8275705575942993 prediction:  [[1 7 3 2 6 4 3 5 9 0 8 3 2 6 4]] true Y:  [[1, 7, 3, 2, 6, 4, 3, 5, 9, 0, 8, 3, 2, 6, 4]] prediction str:  if you want you\n",
      "35 loss:  0.8261777758598328 prediction:  [[1 7 3 2 6 4 3 5 9 0 8 3 2 6 4]] true Y:  [[1, 7, 3, 2, 6, 4, 3, 5, 9, 0, 8, 3, 2, 6, 4]] prediction str:  if you want you\n",
      "36 loss:  0.8249356746673584 prediction:  [[1 7 3 2 6 4 3 5 9 0 8 3 2 6 4]] true Y:  [[1, 7, 3, 2, 6, 4, 3, 5, 9, 0, 8, 3, 2, 6, 4]] prediction str:  if you want you\n",
      "37 loss:  0.823821485042572 prediction:  [[1 7 3 2 6 4 3 5 9 0 8 3 2 6 4]] true Y:  [[1, 7, 3, 2, 6, 4, 3, 5, 9, 0, 8, 3, 2, 6, 4]] prediction str:  if you want you\n",
      "38 loss:  0.8228150010108948 prediction:  [[1 7 3 2 6 4 3 5 9 0 8 3 2 6 4]] true Y:  [[1, 7, 3, 2, 6, 4, 3, 5, 9, 0, 8, 3, 2, 6, 4]] prediction str:  if you want you\n",
      "39 loss:  0.8218997120857239 prediction:  [[1 7 3 2 6 4 3 5 9 0 8 3 2 6 4]] true Y:  [[1, 7, 3, 2, 6, 4, 3, 5, 9, 0, 8, 3, 2, 6, 4]] prediction str:  if you want you\n",
      "40 loss:  0.8210629224777222 prediction:  [[1 7 3 2 6 4 3 5 9 0 8 3 2 6 4]] true Y:  [[1, 7, 3, 2, 6, 4, 3, 5, 9, 0, 8, 3, 2, 6, 4]] prediction str:  if you want you\n",
      "41 loss:  0.820293664932251 prediction:  [[1 7 3 2 6 4 3 5 9 0 8 3 2 6 4]] true Y:  [[1, 7, 3, 2, 6, 4, 3, 5, 9, 0, 8, 3, 2, 6, 4]] prediction str:  if you want you\n",
      "42 loss:  0.8195837736129761 prediction:  [[1 7 3 2 6 4 3 5 9 0 8 3 2 6 4]] true Y:  [[1, 7, 3, 2, 6, 4, 3, 5, 9, 0, 8, 3, 2, 6, 4]] prediction str:  if you want you\n",
      "43 loss:  0.8189279437065125 prediction:  [[1 7 3 2 6 4 3 5 9 0 8 3 2 6 4]] true Y:  [[1, 7, 3, 2, 6, 4, 3, 5, 9, 0, 8, 3, 2, 6, 4]] prediction str:  if you want you\n",
      "44 loss:  0.8183210492134094 prediction:  [[1 7 3 2 6 4 3 5 9 0 8 3 2 6 4]] true Y:  [[1, 7, 3, 2, 6, 4, 3, 5, 9, 0, 8, 3, 2, 6, 4]] prediction str:  if you want you\n",
      "45 loss:  0.8177580237388611 prediction:  [[1 7 3 2 6 4 3 5 9 0 8 3 2 6 4]] true Y:  [[1, 7, 3, 2, 6, 4, 3, 5, 9, 0, 8, 3, 2, 6, 4]] prediction str:  if you want you\n",
      "46 loss:  0.8172340393066406 prediction:  [[1 7 3 2 6 4 3 5 9 0 8 3 2 6 4]] true Y:  [[1, 7, 3, 2, 6, 4, 3, 5, 9, 0, 8, 3, 2, 6, 4]] prediction str:  if you want you\n",
      "47 loss:  0.8167443871498108 prediction:  [[1 7 3 2 6 4 3 5 9 0 8 3 2 6 4]] true Y:  [[1, 7, 3, 2, 6, 4, 3, 5, 9, 0, 8, 3, 2, 6, 4]] prediction str:  if you want you\n",
      "48 loss:  0.8162862658500671 prediction:  [[1 7 3 2 6 4 3 5 9 0 8 3 2 6 4]] true Y:  [[1, 7, 3, 2, 6, 4, 3, 5, 9, 0, 8, 3, 2, 6, 4]] prediction str:  if you want you\n",
      "49 loss:  0.8158582448959351 prediction:  [[1 7 3 2 6 4 3 5 9 0 8 3 2 6 4]] true Y:  [[1, 7, 3, 2, 6, 4, 3, 5, 9, 0, 8, 3, 2, 6, 4]] prediction str:  if you want you\n"
     ]
    }
   ],
   "source": [
    "for i in range(50):\n",
    "    optimizer.zero_grad()\n",
    "    outputs, _status = rnn(X)\n",
    "    loss = criterion(outputs.view(-1, dic_size), Y.view(-1))\n",
    "    loss.backward()\n",
    "    optimizer.step()\n",
    "    \n",
    "    result = outputs.data.numpy().argmax(axis=2)\n",
    "    result_str = ''.join([char_set[c] for c in np.squeeze(result)])\n",
    "    print(i, \"loss: \", loss.item(), \"prediction: \", result, \"true Y: \", y_data, \"prediction str: \", result_str)"
   ]
  },
  {
   "cell_type": "code",
   "execution_count": null,
   "metadata": {},
   "outputs": [],
   "source": []
  }
 ],
 "metadata": {
  "kernelspec": {
   "display_name": "Python 3",
   "language": "python",
   "name": "python3"
  },
  "language_info": {
   "codemirror_mode": {
    "name": "ipython",
    "version": 3
   },
   "file_extension": ".py",
   "mimetype": "text/x-python",
   "name": "python",
   "nbconvert_exporter": "python",
   "pygments_lexer": "ipython3",
   "version": "3.6.7"
  }
 },
 "nbformat": 4,
 "nbformat_minor": 2
}
