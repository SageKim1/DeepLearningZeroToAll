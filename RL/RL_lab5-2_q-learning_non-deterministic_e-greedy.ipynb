{
 "cells": [
  {
   "cell_type": "code",
   "execution_count": 1,
   "id": "d65fefac-e474-47ff-b249-a1477db93d1f",
   "metadata": {},
   "outputs": [],
   "source": [
    "import gym\n",
    "import numpy as np\n",
    "import matplotlib.pyplot as plt\n",
    "from gym.envs.registration import register"
   ]
  },
  {
   "cell_type": "code",
   "execution_count": 2,
   "id": "3da01527-9305-4528-8947-d67a4eaa3c74",
   "metadata": {},
   "outputs": [],
   "source": [
    "register(\n",
    "    id='FrozenLake-v3',\n",
    "    entry_point='gym.envs.toy_text:FrozenLakeEnv',\n",
    "    kwargs={\n",
    "        'map_name': '4x4',\n",
    "        'is_slippery': True\n",
    "    }\n",
    ")"
   ]
  },
  {
   "cell_type": "code",
   "execution_count": 3,
   "id": "86772159-9980-4b8d-8f32-d4b6c1ff98e3",
   "metadata": {},
   "outputs": [],
   "source": [
    "env = gym.make('FrozenLake-v3')"
   ]
  },
  {
   "cell_type": "code",
   "execution_count": 4,
   "id": "186c9864-94ce-40a9-894a-af5662cf4641",
   "metadata": {},
   "outputs": [],
   "source": [
    "Q = np.zeros([env.observation_space.n, env.action_space.n])"
   ]
  },
  {
   "cell_type": "code",
   "execution_count": 5,
   "id": "c5af5304-1a67-4ba9-8622-d0de7de1c1d9",
   "metadata": {},
   "outputs": [],
   "source": [
    "learning_rate = .88\n",
    "dis = .99\n",
    "num_episodes = 2000\n",
    "rList = []"
   ]
  },
  {
   "cell_type": "code",
   "execution_count": 6,
   "id": "96cbf329-d678-402c-9a58-27c476bb9233",
   "metadata": {},
   "outputs": [
    {
     "name": "stderr",
     "output_type": "stream",
     "text": [
      "/opt/anaconda3/envs/gym/lib/python3.12/site-packages/gym/utils/passive_env_checker.py:233: DeprecationWarning: `np.bool8` is a deprecated alias for `np.bool_`.  (Deprecated NumPy 1.24)\n",
      "  if not isinstance(terminated, (bool, np.bool8)):\n"
     ]
    }
   ],
   "source": [
    "for i in range(num_episodes):\n",
    "    state, _ = env.reset()\n",
    "    rAll = 0\n",
    "    done = False\n",
    "\n",
    "    e = 1. / ((i//100) + 1)\n",
    "\n",
    "    while not done:\n",
    "        action = np.argmax(Q[state,:] + np.random.randn(1, env.action_space.n) / (i+1))\n",
    "\n",
    "        if np.random.rand(1) < e:\n",
    "            action = env.action_space.sample()\n",
    "        else:\n",
    "            action = np.argmax(Q[state,:])\n",
    "\n",
    "        new_state, reward, done, truncated, info = env.step(action)\n",
    "\n",
    "        Q[state, action] = (1 - learning_rate) * Q[state, action] + learning_rate * (reward + dis * np.max(Q[new_state,:]))\n",
    "\n",
    "        rAll += reward\n",
    "        state = new_state\n",
    "\n",
    "    rList.append(rAll)"
   ]
  },
  {
   "cell_type": "code",
   "execution_count": 7,
   "id": "c66490a1-b934-43be-ac35-fe016de2d58d",
   "metadata": {},
   "outputs": [
    {
     "name": "stdout",
     "output_type": "stream",
     "text": [
      "Score over time: 0.1645\n"
     ]
    },
    {
     "data": {
      "image/png": "[encoded data removed]",
      "text/plain": [
       "<Figure size 640x480 with 1 Axes>"
      ]
     },
     "metadata": {},
     "output_type": "display_data"
    }
   ],
   "source": [
    "print(\"Score over time: \" + str(sum(rList)/num_episodes))\n",
    "plt.bar(range(len(rList)), rList, color=\"blue\")\n",
    "plt.show()"
   ]
  },
  {
   "cell_type": "code",
   "execution_count": 8,
   "id": "f44adfd7-e637-467e-b43f-5a9c8993d2a7",
   "metadata": {},
   "outputs": [
    {
     "name": "stdout",
     "output_type": "stream",
     "text": [
      "Final Q-Table Values\n",
      "[[4.10372734e-01 3.78494483e-01 5.62372949e-01 3.54030787e-01]\n",
      " [8.04111796e-03 9.08572080e-02 8.69640911e-03 5.78127704e-01]\n",
      " [6.57678322e-02 9.61320381e-02 2.86841614e-01 3.41014327e-01]\n",
      " [4.67362741e-02 4.31152920e-02 1.19083046e-04 2.85247711e-01]\n",
      " [4.84572047e-01 9.18962947e-02 1.67684463e-02 8.18322336e-02]\n",
      " [0.00000000e+00 0.00000000e+00 0.00000000e+00 0.00000000e+00]\n",
      " [4.05921035e-03 3.87266791e-10 1.91607737e-02 4.93221394e-02]\n",
      " [0.00000000e+00 0.00000000e+00 0.00000000e+00 0.00000000e+00]\n",
      " [6.35307955e-02 1.02582263e-01 1.12644919e-01 3.75548823e-01]\n",
      " [1.09428077e-01 8.05394954e-01 1.19260006e-01 1.03784630e-01]\n",
      " [1.61047655e-01 3.02645618e-03 1.33378864e-01 1.28747708e-02]\n",
      " [0.00000000e+00 0.00000000e+00 0.00000000e+00 0.00000000e+00]\n",
      " [0.00000000e+00 0.00000000e+00 0.00000000e+00 0.00000000e+00]\n",
      " [1.80097331e-02 1.43862153e-01 7.68278665e-01 1.36295555e-02]\n",
      " [5.10077303e-01 9.65471028e-01 5.22831404e-01 4.56274795e-01]\n",
      " [0.00000000e+00 0.00000000e+00 0.00000000e+00 0.00000000e+00]]\n"
     ]
    }
   ],
   "source": [
    "print(\"Final Q-Table Values\")\n",
    "print(Q)"
   ]
  }
 ],
 "metadata": {
  "kernelspec": {
   "display_name": "Python 3 (ipykernel)",
   "language": "python",
   "name": "python3"
  },
  "language_info": {
   "codemirror_mode": {
    "name": "ipython",
    "version": 3
   },
   "file_extension": ".py",
   "mimetype": "text/x-python",
   "name": "python",
   "nbconvert_exporter": "python",
   "pygments_lexer": "ipython3",
   "version": "3.12.4"
  }
 },
 "nbformat": 4,
 "nbformat_minor": 5
}
