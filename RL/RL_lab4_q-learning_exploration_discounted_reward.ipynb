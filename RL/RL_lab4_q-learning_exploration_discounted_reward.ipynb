{
 "cells": [
  {
   "cell_type": "code",
   "execution_count": 1,
   "id": "4714e423-8357-4a83-b5b5-975038477ff5",
   "metadata": {},
   "outputs": [],
   "source": [
    "import gym\n",
    "import numpy as np\n",
    "import matplotlib.pyplot as plt\n",
    "from gym.envs.registration import register"
   ]
  },
  {
   "cell_type": "code",
   "execution_count": 2,
   "id": "e60c8bd1-ceae-4dc2-90c3-ddc8906e6782",
   "metadata": {},
   "outputs": [],
   "source": [
    "register(\n",
    "    id='FrozenLake-v3',\n",
    "    entry_point='gym.envs.toy_text:FrozenLakeEnv',\n",
    "    kwargs={\n",
    "        'map_name': '4x4',\n",
    "        'is_slippery': False\n",
    "    }\n",
    ")"
   ]
  },
  {
   "cell_type": "code",
   "execution_count": 3,
   "id": "fd4a3441-24a8-4382-be5c-f12b3fe3908b",
   "metadata": {},
   "outputs": [],
   "source": [
    "env = gym.make('FrozenLake-v3')"
   ]
  },
  {
   "cell_type": "code",
   "execution_count": 4,
   "id": "004456bb-8ffc-4bb1-82a3-b4b42823deb7",
   "metadata": {},
   "outputs": [],
   "source": [
    "Q = np.zeros([env.observation_space.n, env.action_space.n])"
   ]
  },
  {
   "cell_type": "code",
   "execution_count": 5,
   "id": "d44bb2ec-ac34-4cf5-b189-af102ca38f78",
   "metadata": {},
   "outputs": [],
   "source": [
    "dis = .99\n",
    "num_episodes = 2000\n",
    "rList = []"
   ]
  },
  {
   "cell_type": "code",
   "execution_count": 6,
   "id": "4a0d6acd-3eed-41ab-a8e4-508e0fe7b2bb",
   "metadata": {
    "scrolled": true
   },
   "outputs": [
    {
     "name": "stderr",
     "output_type": "stream",
     "text": [
      "/opt/anaconda3/envs/gym/lib/python3.12/site-packages/gym/utils/passive_env_checker.py:233: DeprecationWarning: `np.bool8` is a deprecated alias for `np.bool_`.  (Deprecated NumPy 1.24)\n",
      "  if not isinstance(terminated, (bool, np.bool8)):\n"
     ]
    }
   ],
   "source": [
    "for i in range(num_episodes):\n",
    "    state, _ = env.reset()\n",
    "    rAll = 0\n",
    "    done = False\n",
    "\n",
    "    e = 1. / ((i//100) + 1)\n",
    "\n",
    "    while not done:\n",
    "        action = np.argmax(Q[state,:] + np.random.randn(1, env.action_space.n) / (i+1))\n",
    "\n",
    "        if np.random.rand(1) < e:\n",
    "            action = env.action_space.sample()\n",
    "        else:\n",
    "            action = np.argmax(Q[state,:])\n",
    "\n",
    "        new_state, reward, done, truncated, info = env.step(action)\n",
    "\n",
    "        Q[state, action] = reward + dis * np.max(Q[new_state,:])\n",
    "\n",
    "        rAll += reward\n",
    "        state = new_state\n",
    "\n",
    "    rList.append(rAll)"
   ]
  },
  {
   "cell_type": "code",
   "execution_count": 7,
   "id": "12494afa-82fb-47c9-ae31-5036c20cba65",
   "metadata": {},
   "outputs": [
    {
     "name": "stdout",
     "output_type": "stream",
     "text": [
      "Success rate: 0.778\n"
     ]
    },
    {
     "data": {
      "image/png": "[encoded data removed]",
      "text/plain": [
       "<Figure size 640x480 with 1 Axes>"
      ]
     },
     "metadata": {},
     "output_type": "display_data"
    }
   ],
   "source": [
    "print(\"Success rate: \" + str(sum(rList)/num_episodes))\n",
    "plt.bar(range(len(rList)), rList, color=\"blue\")\n",
    "plt.show()"
   ]
  },
  {
   "cell_type": "code",
   "execution_count": 8,
   "id": "3e54f0cc-ed28-4e45-acd7-cfd28096f589",
   "metadata": {},
   "outputs": [
    {
     "name": "stdout",
     "output_type": "stream",
     "text": [
      "Final Q-Table Values\n",
      "[[0.94148015 0.95099005 0.93206535 0.94148015]\n",
      " [0.94148015 0.         0.92274469 0.93206535]\n",
      " [0.93206535 0.         0.         0.        ]\n",
      " [0.         0.         0.         0.        ]\n",
      " [0.95099005 0.96059601 0.         0.94148015]\n",
      " [0.         0.         0.         0.        ]\n",
      " [0.         0.         0.         0.92274469]\n",
      " [0.         0.         0.         0.        ]\n",
      " [0.96059601 0.         0.970299   0.95099005]\n",
      " [0.96059601 0.9801     0.9801     0.        ]\n",
      " [0.970299   0.99       0.         0.91351725]\n",
      " [0.         0.         0.         0.        ]\n",
      " [0.         0.         0.         0.        ]\n",
      " [0.         0.9801     0.99       0.970299  ]\n",
      " [0.9801     0.99       1.         0.9801    ]\n",
      " [0.         0.         0.         0.        ]]\n"
     ]
    }
   ],
   "source": [
    "print(\"Final Q-Table Values\")\n",
    "print(Q)"
   ]
  }
 ],
 "metadata": {
  "kernelspec": {
   "display_name": "Python 3 (ipykernel)",
   "language": "python",
   "name": "python3"
  },
  "language_info": {
   "codemirror_mode": {
    "name": "ipython",
    "version": 3
   },
   "file_extension": ".py",
   "mimetype": "text/x-python",
   "name": "python",
   "nbconvert_exporter": "python",
   "pygments_lexer": "ipython3",
   "version": "3.12.4"
  }
 },
 "nbformat": 4,
 "nbformat_minor": 5
}
