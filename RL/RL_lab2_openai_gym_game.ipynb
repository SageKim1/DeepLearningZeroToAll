{
 "cells": [
  {
   "cell_type": "code",
   "execution_count": 1,
   "id": "f8c94ba9-d336-457d-ab64-3f9ac6554871",
   "metadata": {},
   "outputs": [],
   "source": [
    "import gym\n",
    "from gym.envs.registration import register"
   ]
  },
  {
   "cell_type": "code",
   "execution_count": 2,
   "id": "2f854084-ea09-4d05-bdf3-5fcc41b35bcc",
   "metadata": {},
   "outputs": [],
   "source": [
    "register(\n",
    "    id='FrozenLake-v3',\n",
    "    entry_point='gym.envs.toy_text:FrozenLakeEnv',\n",
    "    kwargs={'map_name' : '4x4', 'is_slippery' : False}\n",
    ")"
   ]
  },
  {
   "cell_type": "code",
   "execution_count": 3,
   "id": "a6f4f791-d1b8-4f24-81a9-06fa3f9357ea",
   "metadata": {},
   "outputs": [],
   "source": [
    "env = gym.make('FrozenLake-v3', render_mode='human')"
   ]
  },
  {
   "cell_type": "code",
   "execution_count": 4,
   "id": "95ffd6be-e428-4665-9799-827c04dc6f74",
   "metadata": {},
   "outputs": [],
   "source": [
    "LEFT = 0\n",
    "DOWN = 1\n",
    "RIGHT = 2\n",
    "UP = 3"
   ]
  },
  {
   "cell_type": "code",
   "execution_count": 5,
   "id": "90993caf-9bc8-4008-b367-b98c5eb174c3",
   "metadata": {},
   "outputs": [],
   "source": [
    "arrow_keys = {\n",
    "    'w': UP,\n",
    "    's': DOWN,\n",
    "    'd': RIGHT,\n",
    "    'a': LEFT\n",
    "}"
   ]
  },
  {
   "cell_type": "code",
   "execution_count": 6,
   "id": "d7905436-bfa5-440d-ba07-0919707d5c8f",
   "metadata": {
    "scrolled": true
   },
   "outputs": [],
   "source": [
    "env.reset()\n",
    "env.render()"
   ]
  },
  {
   "cell_type": "code",
   "execution_count": 7,
   "id": "585fd4ff-d667-47bb-9d99-0ba6f7440f48",
   "metadata": {},
   "outputs": [
    {
     "name": "stdin",
     "output_type": "stream",
     "text": [
      "Move (w:up, s:down, a:left, d:right):  d\n"
     ]
    },
    {
     "name": "stderr",
     "output_type": "stream",
     "text": [
      "2024-09-20 15:35:23.058 python[18827:122823] Warning: Window move completed without beginning\n",
      "/opt/anaconda3/envs/gym/lib/python3.12/site-packages/gym/utils/passive_env_checker.py:233: DeprecationWarning: `np.bool8` is a deprecated alias for `np.bool_`.  (Deprecated NumPy 1.24)\n",
      "  if not isinstance(terminated, (bool, np.bool8)):\n"
     ]
    },
    {
     "name": "stdout",
     "output_type": "stream",
     "text": [
      "S:  1 Action:  2 Reward:  0.0 Info:  {'prob': 1.0}\n"
     ]
    },
    {
     "name": "stdin",
     "output_type": "stream",
     "text": [
      "Move (w:up, s:down, a:left, d:right):  d\n"
     ]
    },
    {
     "name": "stdout",
     "output_type": "stream",
     "text": [
      "S:  2 Action:  2 Reward:  0.0 Info:  {'prob': 1.0}\n"
     ]
    },
    {
     "name": "stdin",
     "output_type": "stream",
     "text": [
      "Move (w:up, s:down, a:left, d:right):  s\n"
     ]
    },
    {
     "name": "stdout",
     "output_type": "stream",
     "text": [
      "S:  6 Action:  1 Reward:  0.0 Info:  {'prob': 1.0}\n"
     ]
    },
    {
     "name": "stdin",
     "output_type": "stream",
     "text": [
      "Move (w:up, s:down, a:left, d:right):  s\n"
     ]
    },
    {
     "name": "stdout",
     "output_type": "stream",
     "text": [
      "S:  10 Action:  1 Reward:  0.0 Info:  {'prob': 1.0}\n"
     ]
    },
    {
     "name": "stdin",
     "output_type": "stream",
     "text": [
      "Move (w:up, s:down, a:left, d:right):  s\n"
     ]
    },
    {
     "name": "stdout",
     "output_type": "stream",
     "text": [
      "S:  14 Action:  1 Reward:  0.0 Info:  {'prob': 1.0}\n"
     ]
    },
    {
     "name": "stdin",
     "output_type": "stream",
     "text": [
      "Move (w:up, s:down, a:left, d:right):  d\n"
     ]
    },
    {
     "name": "stdout",
     "output_type": "stream",
     "text": [
      "S:  15 Action:  2 Reward:  1.0 Info:  {'prob': 1.0}\n",
      "Finished with reward 1.0\n"
     ]
    }
   ],
   "source": [
    "while True:\n",
    "    key = input(\"Move (w:up, s:down, a:left, d:right): \").lower()\n",
    "    \n",
    "    if key not in arrow_keys:\n",
    "        print(\"Game aborted\")\n",
    "        break\n",
    "\n",
    "    action = arrow_keys[key]\n",
    "\n",
    "    state, reward, done, truncated, info = env.step(action)\n",
    "    env.render()\n",
    "    print(\"S: \", state, \"Action: \", action, \"Reward: \", reward, \"Info: \", info)\n",
    "\n",
    "    if done:\n",
    "        print(\"Finished with reward\", reward)\n",
    "        break"
   ]
  }
 ],
 "metadata": {
  "kernelspec": {
   "display_name": "Python 3 (ipykernel)",
   "language": "python",
   "name": "python3"
  },
  "language_info": {
   "codemirror_mode": {
    "name": "ipython",
    "version": 3
   },
   "file_extension": ".py",
   "mimetype": "text/x-python",
   "name": "python",
   "nbconvert_exporter": "python",
   "pygments_lexer": "ipython3",
   "version": "3.12.4"
  }
 },
 "nbformat": 4,
 "nbformat_minor": 5
}
