{
 "cells": [
  {
   "cell_type": "code",
   "execution_count": 1,
   "id": "f7bd9bb9-2224-4729-bb5e-bcfe93ddf643",
   "metadata": {},
   "outputs": [],
   "source": [
    "import gym\n",
    "from gym.envs.registration import register\n",
    "import readchar"
   ]
  },
  {
   "cell_type": "code",
   "execution_count": 2,
   "id": "067d6e1c-da05-497d-816b-4f57c878ca9b",
   "metadata": {},
   "outputs": [],
   "source": [
    "register(\n",
    "    id='FrozenLake-v3',\n",
    "    entry_point='gym.envs.toy_text:FrozenLakeEnv',\n",
    "    kwargs={'map_name' : '4x4', 'is_slippery' : True}\n",
    ")"
   ]
  },
  {
   "cell_type": "code",
   "execution_count": 3,
   "id": "9e4b59ec-2f71-4b0a-a129-89730bf95e63",
   "metadata": {},
   "outputs": [],
   "source": [
    "env = gym.make('FrozenLake-v3', render_mode='human')"
   ]
  },
  {
   "cell_type": "code",
   "execution_count": 4,
   "id": "8e2e1f3e-71e8-4979-9b7d-2e16abd0fe31",
   "metadata": {},
   "outputs": [],
   "source": [
    "LEFT = 0\n",
    "DOWN = 1\n",
    "RIGHT = 2\n",
    "UP = 3"
   ]
  },
  {
   "cell_type": "code",
   "execution_count": 5,
   "id": "3e5ca6d6-44f6-46a9-8d38-f67b04226501",
   "metadata": {},
   "outputs": [],
   "source": [
    "arrow_keys = {\n",
    "    'w': UP,\n",
    "    's': DOWN,\n",
    "    'd': RIGHT,\n",
    "    'a': LEFT\n",
    "}"
   ]
  },
  {
   "cell_type": "code",
   "execution_count": 7,
   "id": "76f340cc-2755-414e-8a39-e94f2c6b85cc",
   "metadata": {},
   "outputs": [],
   "source": [
    "state = env.reset()\n",
    "env.render()"
   ]
  },
  {
   "cell_type": "code",
   "execution_count": 8,
   "id": "1a6fa3af-4f91-4e15-913a-f6fecb0e8194",
   "metadata": {},
   "outputs": [
    {
     "name": "stdin",
     "output_type": "stream",
     "text": [
      "Move (w:up, s:down, a:left, d:right):  d\n"
     ]
    },
    {
     "name": "stderr",
     "output_type": "stream",
     "text": [
      "/opt/anaconda3/envs/gym/lib/python3.12/site-packages/gym/utils/passive_env_checker.py:233: DeprecationWarning: `np.bool8` is a deprecated alias for `np.bool_`.  (Deprecated NumPy 1.24)\n",
      "  if not isinstance(terminated, (bool, np.bool8)):\n"
     ]
    },
    {
     "name": "stdout",
     "output_type": "stream",
     "text": [
      "S:  0 Action:  2 Reward:  0.0 Info:  {'prob': 0.3333333333333333}\n"
     ]
    },
    {
     "name": "stdin",
     "output_type": "stream",
     "text": [
      "Move (w:up, s:down, a:left, d:right):  d\n"
     ]
    },
    {
     "name": "stdout",
     "output_type": "stream",
     "text": [
      "S:  4 Action:  2 Reward:  0.0 Info:  {'prob': 0.3333333333333333}\n"
     ]
    },
    {
     "name": "stdin",
     "output_type": "stream",
     "text": [
      "Move (w:up, s:down, a:left, d:right):  s\n"
     ]
    },
    {
     "name": "stderr",
     "output_type": "stream",
     "text": [
      "2024-09-20 20:09:40.066 python[20930:232404] Warning: Window move completed without beginning\n"
     ]
    },
    {
     "name": "stdout",
     "output_type": "stream",
     "text": [
      "S:  5 Action:  1 Reward:  0.0 Info:  {'prob': 0.3333333333333333}\n",
      "Finished with reward 0.0\n"
     ]
    }
   ],
   "source": [
    "while True:\n",
    "    key = input(\"Move (w:up, s:down, a:left, d:right): \").lower()\n",
    "    \n",
    "    if key not in arrow_keys:\n",
    "        print(\"Game aborted\")\n",
    "        break\n",
    "\n",
    "    action = arrow_keys[key]\n",
    "\n",
    "    state, reward, done, truncated, info = env.step(action)\n",
    "    env.render()\n",
    "    \n",
    "    print(\"S: \", state, \"Action: \", action, \"Reward: \", reward, \"Info: \", info)\n",
    "\n",
    "    if done:\n",
    "        print(\"Finished with reward\", reward)\n",
    "        break"
   ]
  }
 ],
 "metadata": {
  "kernelspec": {
   "display_name": "Python 3 (ipykernel)",
   "language": "python",
   "name": "python3"
  },
  "language_info": {
   "codemirror_mode": {
    "name": "ipython",
    "version": 3
   },
   "file_extension": ".py",
   "mimetype": "text/x-python",
   "name": "python",
   "nbconvert_exporter": "python",
   "pygments_lexer": "ipython3",
   "version": "3.12.4"
  }
 },
 "nbformat": 4,
 "nbformat_minor": 5
}
